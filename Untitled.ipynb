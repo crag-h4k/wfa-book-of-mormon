{
 "cells": [
  {
   "cell_type": "code",
   "execution_count": 106,
   "metadata": {},
   "outputs": [
    {
     "name": "stdout",
     "output_type": "stream",
     "text": [
      "/home/f3nr1r/ccdc-task-jan25/Healthy Massage - 390 S. State St.  Orem, UT/CLEAR- UT V606FS.pdf\n",
      "149\n"
     ]
    }
   ],
   "source": [
    "from filemanip import find_files\n",
    "from os import system\n",
    "\n",
    "fpaths = find_files(base_path,'.pdf')\n",
    "\n",
    "base_path = '/home/f3nr1r/ccdc-task-jan25'\n",
    "result_dir = base_path + '/testing'\n",
    "\n",
    "print(fpaths[0])\n",
    "print(len(fpaths))"
   ]
  },
  {
   "cell_type": "code",
   "execution_count": 107,
   "metadata": {},
   "outputs": [],
   "source": [
    "def make_new_fpaths(fpaths, new_ftype):\n",
    "    new_fpaths = []\n",
    "    for fname in fpaths:\n",
    "        in_fname = _in_fname.replace(' ', '\\ ')\n",
    "        x = in_fname.split('/')[-1]\n",
    "        ftype = x.split('.')[-1]\n",
    "        _fpath = in_fname.replace(ftype, new_ftype)\n",
    "        new_fpaths.append(_fpath.replace(base_path, result_dir))\n",
    "        \n",
    "    return new_fpaths"
   ]
  },
  {
   "cell_type": "code",
   "execution_count": 109,
   "metadata": {},
   "outputs": [
    {
     "name": "stdout",
     "output_type": "stream",
     "text": [
      "['/home/f3nr1r/ccdc-task-jan25/testing/Healthy\\\\ Massage\\\\ -\\\\ 390\\\\ S.\\\\ State\\\\ St.\\\\ \\\\ Orem,\\\\ UT/CLEAR-\\\\ UT\\\\ V606FS.txt', '/home/f3nr1r/ccdc-task-jan25/testing/Healthy\\\\ Massage\\\\ -\\\\ 390\\\\ S.\\\\ State\\\\ St.\\\\ \\\\ Orem,\\\\ UT/CLEAR-\\\\ UT\\\\ V606FS.txt', '/home/f3nr1r/ccdc-task-jan25/testing/Healthy\\\\ Massage\\\\ -\\\\ 390\\\\ S.\\\\ State\\\\ St.\\\\ \\\\ Orem,\\\\ UT/CLEAR-\\\\ UT\\\\ V606FS.txt', '/home/f3nr1r/ccdc-task-jan25/testing/Healthy\\\\ Massage\\\\ -\\\\ 390\\\\ S.\\\\ State\\\\ St.\\\\ \\\\ Orem,\\\\ UT/CLEAR-\\\\ UT\\\\ V606FS.txt', '/home/f3nr1r/ccdc-task-jan25/testing/Healthy\\\\ Massage\\\\ -\\\\ 390\\\\ S.\\\\ State\\\\ St.\\\\ \\\\ Orem,\\\\ UT/CLEAR-\\\\ UT\\\\ V606FS.txt', '/home/f3nr1r/ccdc-task-jan25/testing/Healthy\\\\ Massage\\\\ -\\\\ 390\\\\ S.\\\\ State\\\\ St.\\\\ \\\\ Orem,\\\\ UT/CLEAR-\\\\ UT\\\\ V606FS.txt', '/home/f3nr1r/ccdc-task-jan25/testing/Healthy\\\\ Massage\\\\ -\\\\ 390\\\\ S.\\\\ State\\\\ St.\\\\ \\\\ Orem,\\\\ UT/CLEAR-\\\\ UT\\\\ V606FS.txt', '/home/f3nr1r/ccdc-task-jan25/testing/Healthy\\\\ Massage\\\\ -\\\\ 390\\\\ S.\\\\ State\\\\ St.\\\\ \\\\ Orem,\\\\ UT/CLEAR-\\\\ UT\\\\ V606FS.txt', '/home/f3nr1r/ccdc-task-jan25/testing/Healthy\\\\ Massage\\\\ -\\\\ 390\\\\ S.\\\\ State\\\\ St.\\\\ \\\\ Orem,\\\\ UT/CLEAR-\\\\ UT\\\\ V606FS.txt', '/home/f3nr1r/ccdc-task-jan25/testing/Healthy\\\\ Massage\\\\ -\\\\ 390\\\\ S.\\\\ State\\\\ St.\\\\ \\\\ Orem,\\\\ UT/CLEAR-\\\\ UT\\\\ V606FS.txt', '/home/f3nr1r/ccdc-task-jan25/testing/Healthy\\\\ Massage\\\\ -\\\\ 390\\\\ S.\\\\ State\\\\ St.\\\\ \\\\ Orem,\\\\ UT/CLEAR-\\\\ UT\\\\ V606FS.txt', '/home/f3nr1r/ccdc-task-jan25/testing/Healthy\\\\ Massage\\\\ -\\\\ 390\\\\ S.\\\\ State\\\\ St.\\\\ \\\\ Orem,\\\\ UT/CLEAR-\\\\ UT\\\\ V606FS.txt', '/home/f3nr1r/ccdc-task-jan25/testing/Healthy\\\\ Massage\\\\ -\\\\ 390\\\\ S.\\\\ State\\\\ St.\\\\ \\\\ Orem,\\\\ UT/CLEAR-\\\\ UT\\\\ V606FS.txt', '/home/f3nr1r/ccdc-task-jan25/testing/Healthy\\\\ Massage\\\\ -\\\\ 390\\\\ S.\\\\ State\\\\ St.\\\\ \\\\ Orem,\\\\ UT/CLEAR-\\\\ UT\\\\ V606FS.txt', '/home/f3nr1r/ccdc-task-jan25/testing/Healthy\\\\ Massage\\\\ -\\\\ 390\\\\ S.\\\\ State\\\\ St.\\\\ \\\\ Orem,\\\\ UT/CLEAR-\\\\ UT\\\\ V606FS.txt', '/home/f3nr1r/ccdc-task-jan25/testing/Healthy\\\\ Massage\\\\ -\\\\ 390\\\\ S.\\\\ State\\\\ St.\\\\ \\\\ Orem,\\\\ UT/CLEAR-\\\\ UT\\\\ V606FS.txt', '/home/f3nr1r/ccdc-task-jan25/testing/Healthy\\\\ Massage\\\\ -\\\\ 390\\\\ S.\\\\ State\\\\ St.\\\\ \\\\ Orem,\\\\ UT/CLEAR-\\\\ UT\\\\ V606FS.txt', '/home/f3nr1r/ccdc-task-jan25/testing/Healthy\\\\ Massage\\\\ -\\\\ 390\\\\ S.\\\\ State\\\\ St.\\\\ \\\\ Orem,\\\\ UT/CLEAR-\\\\ UT\\\\ V606FS.txt', '/home/f3nr1r/ccdc-task-jan25/testing/Healthy\\\\ Massage\\\\ -\\\\ 390\\\\ S.\\\\ State\\\\ St.\\\\ \\\\ Orem,\\\\ UT/CLEAR-\\\\ UT\\\\ V606FS.txt', '/home/f3nr1r/ccdc-task-jan25/testing/Healthy\\\\ Massage\\\\ -\\\\ 390\\\\ S.\\\\ State\\\\ St.\\\\ \\\\ Orem,\\\\ UT/CLEAR-\\\\ UT\\\\ V606FS.txt', '/home/f3nr1r/ccdc-task-jan25/testing/Healthy\\\\ Massage\\\\ -\\\\ 390\\\\ S.\\\\ State\\\\ St.\\\\ \\\\ Orem,\\\\ UT/CLEAR-\\\\ UT\\\\ V606FS.txt', '/home/f3nr1r/ccdc-task-jan25/testing/Healthy\\\\ Massage\\\\ -\\\\ 390\\\\ S.\\\\ State\\\\ St.\\\\ \\\\ Orem,\\\\ UT/CLEAR-\\\\ UT\\\\ V606FS.txt', '/home/f3nr1r/ccdc-task-jan25/testing/Healthy\\\\ Massage\\\\ -\\\\ 390\\\\ S.\\\\ State\\\\ St.\\\\ \\\\ Orem,\\\\ UT/CLEAR-\\\\ UT\\\\ V606FS.txt', '/home/f3nr1r/ccdc-task-jan25/testing/Healthy\\\\ Massage\\\\ -\\\\ 390\\\\ S.\\\\ State\\\\ St.\\\\ \\\\ Orem,\\\\ UT/CLEAR-\\\\ UT\\\\ V606FS.txt', '/home/f3nr1r/ccdc-task-jan25/testing/Healthy\\\\ Massage\\\\ -\\\\ 390\\\\ S.\\\\ State\\\\ St.\\\\ \\\\ Orem,\\\\ UT/CLEAR-\\\\ UT\\\\ V606FS.txt', '/home/f3nr1r/ccdc-task-jan25/testing/Healthy\\\\ Massage\\\\ -\\\\ 390\\\\ S.\\\\ State\\\\ St.\\\\ \\\\ Orem,\\\\ UT/CLEAR-\\\\ UT\\\\ V606FS.txt', '/home/f3nr1r/ccdc-task-jan25/testing/Healthy\\\\ Massage\\\\ -\\\\ 390\\\\ S.\\\\ State\\\\ St.\\\\ \\\\ Orem,\\\\ UT/CLEAR-\\\\ UT\\\\ V606FS.txt', '/home/f3nr1r/ccdc-task-jan25/testing/Healthy\\\\ Massage\\\\ -\\\\ 390\\\\ S.\\\\ State\\\\ St.\\\\ \\\\ Orem,\\\\ UT/CLEAR-\\\\ UT\\\\ V606FS.txt', '/home/f3nr1r/ccdc-task-jan25/testing/Healthy\\\\ Massage\\\\ -\\\\ 390\\\\ S.\\\\ State\\\\ St.\\\\ \\\\ Orem,\\\\ UT/CLEAR-\\\\ UT\\\\ V606FS.txt', '/home/f3nr1r/ccdc-task-jan25/testing/Healthy\\\\ Massage\\\\ -\\\\ 390\\\\ S.\\\\ State\\\\ St.\\\\ \\\\ Orem,\\\\ UT/CLEAR-\\\\ UT\\\\ V606FS.txt', '/home/f3nr1r/ccdc-task-jan25/testing/Healthy\\\\ Massage\\\\ -\\\\ 390\\\\ S.\\\\ State\\\\ St.\\\\ \\\\ Orem,\\\\ UT/CLEAR-\\\\ UT\\\\ V606FS.txt', '/home/f3nr1r/ccdc-task-jan25/testing/Healthy\\\\ Massage\\\\ -\\\\ 390\\\\ S.\\\\ State\\\\ St.\\\\ \\\\ Orem,\\\\ UT/CLEAR-\\\\ UT\\\\ V606FS.txt', '/home/f3nr1r/ccdc-task-jan25/testing/Healthy\\\\ Massage\\\\ -\\\\ 390\\\\ S.\\\\ State\\\\ St.\\\\ \\\\ Orem,\\\\ UT/CLEAR-\\\\ UT\\\\ V606FS.txt', '/home/f3nr1r/ccdc-task-jan25/testing/Healthy\\\\ Massage\\\\ -\\\\ 390\\\\ S.\\\\ State\\\\ St.\\\\ \\\\ Orem,\\\\ UT/CLEAR-\\\\ UT\\\\ V606FS.txt', '/home/f3nr1r/ccdc-task-jan25/testing/Healthy\\\\ Massage\\\\ -\\\\ 390\\\\ S.\\\\ State\\\\ St.\\\\ \\\\ Orem,\\\\ UT/CLEAR-\\\\ UT\\\\ V606FS.txt', '/home/f3nr1r/ccdc-task-jan25/testing/Healthy\\\\ Massage\\\\ -\\\\ 390\\\\ S.\\\\ State\\\\ St.\\\\ \\\\ Orem,\\\\ UT/CLEAR-\\\\ UT\\\\ V606FS.txt', '/home/f3nr1r/ccdc-task-jan25/testing/Healthy\\\\ Massage\\\\ -\\\\ 390\\\\ S.\\\\ State\\\\ St.\\\\ \\\\ Orem,\\\\ UT/CLEAR-\\\\ UT\\\\ V606FS.txt', '/home/f3nr1r/ccdc-task-jan25/testing/Healthy\\\\ Massage\\\\ -\\\\ 390\\\\ S.\\\\ State\\\\ St.\\\\ \\\\ Orem,\\\\ UT/CLEAR-\\\\ UT\\\\ V606FS.txt', '/home/f3nr1r/ccdc-task-jan25/testing/Healthy\\\\ Massage\\\\ -\\\\ 390\\\\ S.\\\\ State\\\\ St.\\\\ \\\\ Orem,\\\\ UT/CLEAR-\\\\ UT\\\\ V606FS.txt', '/home/f3nr1r/ccdc-task-jan25/testing/Healthy\\\\ Massage\\\\ -\\\\ 390\\\\ S.\\\\ State\\\\ St.\\\\ \\\\ Orem,\\\\ UT/CLEAR-\\\\ UT\\\\ V606FS.txt', '/home/f3nr1r/ccdc-task-jan25/testing/Healthy\\\\ Massage\\\\ -\\\\ 390\\\\ S.\\\\ State\\\\ St.\\\\ \\\\ Orem,\\\\ UT/CLEAR-\\\\ UT\\\\ V606FS.txt', '/home/f3nr1r/ccdc-task-jan25/testing/Healthy\\\\ Massage\\\\ -\\\\ 390\\\\ S.\\\\ State\\\\ St.\\\\ \\\\ Orem,\\\\ UT/CLEAR-\\\\ UT\\\\ V606FS.txt', '/home/f3nr1r/ccdc-task-jan25/testing/Healthy\\\\ Massage\\\\ -\\\\ 390\\\\ S.\\\\ State\\\\ St.\\\\ \\\\ Orem,\\\\ UT/CLEAR-\\\\ UT\\\\ V606FS.txt', '/home/f3nr1r/ccdc-task-jan25/testing/Healthy\\\\ Massage\\\\ -\\\\ 390\\\\ S.\\\\ State\\\\ St.\\\\ \\\\ Orem,\\\\ UT/CLEAR-\\\\ UT\\\\ V606FS.txt', '/home/f3nr1r/ccdc-task-jan25/testing/Healthy\\\\ Massage\\\\ -\\\\ 390\\\\ S.\\\\ State\\\\ St.\\\\ \\\\ Orem,\\\\ UT/CLEAR-\\\\ UT\\\\ V606FS.txt', '/home/f3nr1r/ccdc-task-jan25/testing/Healthy\\\\ Massage\\\\ -\\\\ 390\\\\ S.\\\\ State\\\\ St.\\\\ \\\\ Orem,\\\\ UT/CLEAR-\\\\ UT\\\\ V606FS.txt', '/home/f3nr1r/ccdc-task-jan25/testing/Healthy\\\\ Massage\\\\ -\\\\ 390\\\\ S.\\\\ State\\\\ St.\\\\ \\\\ Orem,\\\\ UT/CLEAR-\\\\ UT\\\\ V606FS.txt', '/home/f3nr1r/ccdc-task-jan25/testing/Healthy\\\\ Massage\\\\ -\\\\ 390\\\\ S.\\\\ State\\\\ St.\\\\ \\\\ Orem,\\\\ UT/CLEAR-\\\\ UT\\\\ V606FS.txt', '/home/f3nr1r/ccdc-task-jan25/testing/Healthy\\\\ Massage\\\\ -\\\\ 390\\\\ S.\\\\ State\\\\ St.\\\\ \\\\ Orem,\\\\ UT/CLEAR-\\\\ UT\\\\ V606FS.txt', '/home/f3nr1r/ccdc-task-jan25/testing/Healthy\\\\ Massage\\\\ -\\\\ 390\\\\ S.\\\\ State\\\\ St.\\\\ \\\\ Orem,\\\\ UT/CLEAR-\\\\ UT\\\\ V606FS.txt', '/home/f3nr1r/ccdc-task-jan25/testing/Healthy\\\\ Massage\\\\ -\\\\ 390\\\\ S.\\\\ State\\\\ St.\\\\ \\\\ Orem,\\\\ UT/CLEAR-\\\\ UT\\\\ V606FS.txt', '/home/f3nr1r/ccdc-task-jan25/testing/Healthy\\\\ Massage\\\\ -\\\\ 390\\\\ S.\\\\ State\\\\ St.\\\\ \\\\ Orem,\\\\ UT/CLEAR-\\\\ UT\\\\ V606FS.txt', '/home/f3nr1r/ccdc-task-jan25/testing/Healthy\\\\ Massage\\\\ -\\\\ 390\\\\ S.\\\\ State\\\\ St.\\\\ \\\\ Orem,\\\\ UT/CLEAR-\\\\ UT\\\\ V606FS.txt', '/home/f3nr1r/ccdc-task-jan25/testing/Healthy\\\\ Massage\\\\ -\\\\ 390\\\\ S.\\\\ State\\\\ St.\\\\ \\\\ Orem,\\\\ UT/CLEAR-\\\\ UT\\\\ V606FS.txt', '/home/f3nr1r/ccdc-task-jan25/testing/Healthy\\\\ Massage\\\\ -\\\\ 390\\\\ S.\\\\ State\\\\ St.\\\\ \\\\ Orem,\\\\ UT/CLEAR-\\\\ UT\\\\ V606FS.txt', '/home/f3nr1r/ccdc-task-jan25/testing/Healthy\\\\ Massage\\\\ -\\\\ 390\\\\ S.\\\\ State\\\\ St.\\\\ \\\\ Orem,\\\\ UT/CLEAR-\\\\ UT\\\\ V606FS.txt', '/home/f3nr1r/ccdc-task-jan25/testing/Healthy\\\\ Massage\\\\ -\\\\ 390\\\\ S.\\\\ State\\\\ St.\\\\ \\\\ Orem,\\\\ UT/CLEAR-\\\\ UT\\\\ V606FS.txt', '/home/f3nr1r/ccdc-task-jan25/testing/Healthy\\\\ Massage\\\\ -\\\\ 390\\\\ S.\\\\ State\\\\ St.\\\\ \\\\ Orem,\\\\ UT/CLEAR-\\\\ UT\\\\ V606FS.txt', '/home/f3nr1r/ccdc-task-jan25/testing/Healthy\\\\ Massage\\\\ -\\\\ 390\\\\ S.\\\\ State\\\\ St.\\\\ \\\\ Orem,\\\\ UT/CLEAR-\\\\ UT\\\\ V606FS.txt', '/home/f3nr1r/ccdc-task-jan25/testing/Healthy\\\\ Massage\\\\ -\\\\ 390\\\\ S.\\\\ State\\\\ St.\\\\ \\\\ Orem,\\\\ UT/CLEAR-\\\\ UT\\\\ V606FS.txt', '/home/f3nr1r/ccdc-task-jan25/testing/Healthy\\\\ Massage\\\\ -\\\\ 390\\\\ S.\\\\ State\\\\ St.\\\\ \\\\ Orem,\\\\ UT/CLEAR-\\\\ UT\\\\ V606FS.txt', '/home/f3nr1r/ccdc-task-jan25/testing/Healthy\\\\ Massage\\\\ -\\\\ 390\\\\ S.\\\\ State\\\\ St.\\\\ \\\\ Orem,\\\\ UT/CLEAR-\\\\ UT\\\\ V606FS.txt', '/home/f3nr1r/ccdc-task-jan25/testing/Healthy\\\\ Massage\\\\ -\\\\ 390\\\\ S.\\\\ State\\\\ St.\\\\ \\\\ Orem,\\\\ UT/CLEAR-\\\\ UT\\\\ V606FS.txt', '/home/f3nr1r/ccdc-task-jan25/testing/Healthy\\\\ Massage\\\\ -\\\\ 390\\\\ S.\\\\ State\\\\ St.\\\\ \\\\ Orem,\\\\ UT/CLEAR-\\\\ UT\\\\ V606FS.txt', '/home/f3nr1r/ccdc-task-jan25/testing/Healthy\\\\ Massage\\\\ -\\\\ 390\\\\ S.\\\\ State\\\\ St.\\\\ \\\\ Orem,\\\\ UT/CLEAR-\\\\ UT\\\\ V606FS.txt', '/home/f3nr1r/ccdc-task-jan25/testing/Healthy\\\\ Massage\\\\ -\\\\ 390\\\\ S.\\\\ State\\\\ St.\\\\ \\\\ Orem,\\\\ UT/CLEAR-\\\\ UT\\\\ V606FS.txt', '/home/f3nr1r/ccdc-task-jan25/testing/Healthy\\\\ Massage\\\\ -\\\\ 390\\\\ S.\\\\ State\\\\ St.\\\\ \\\\ Orem,\\\\ UT/CLEAR-\\\\ UT\\\\ V606FS.txt', '/home/f3nr1r/ccdc-task-jan25/testing/Healthy\\\\ Massage\\\\ -\\\\ 390\\\\ S.\\\\ State\\\\ St.\\\\ \\\\ Orem,\\\\ UT/CLEAR-\\\\ UT\\\\ V606FS.txt', '/home/f3nr1r/ccdc-task-jan25/testing/Healthy\\\\ Massage\\\\ -\\\\ 390\\\\ S.\\\\ State\\\\ St.\\\\ \\\\ Orem,\\\\ UT/CLEAR-\\\\ UT\\\\ V606FS.txt', '/home/f3nr1r/ccdc-task-jan25/testing/Healthy\\\\ Massage\\\\ -\\\\ 390\\\\ S.\\\\ State\\\\ St.\\\\ \\\\ Orem,\\\\ UT/CLEAR-\\\\ UT\\\\ V606FS.txt', '/home/f3nr1r/ccdc-task-jan25/testing/Healthy\\\\ Massage\\\\ -\\\\ 390\\\\ S.\\\\ State\\\\ St.\\\\ \\\\ Orem,\\\\ UT/CLEAR-\\\\ UT\\\\ V606FS.txt', '/home/f3nr1r/ccdc-task-jan25/testing/Healthy\\\\ Massage\\\\ -\\\\ 390\\\\ S.\\\\ State\\\\ St.\\\\ \\\\ Orem,\\\\ UT/CLEAR-\\\\ UT\\\\ V606FS.txt', '/home/f3nr1r/ccdc-task-jan25/testing/Healthy\\\\ Massage\\\\ -\\\\ 390\\\\ S.\\\\ State\\\\ St.\\\\ \\\\ Orem,\\\\ UT/CLEAR-\\\\ UT\\\\ V606FS.txt', '/home/f3nr1r/ccdc-task-jan25/testing/Healthy\\\\ Massage\\\\ -\\\\ 390\\\\ S.\\\\ State\\\\ St.\\\\ \\\\ Orem,\\\\ UT/CLEAR-\\\\ UT\\\\ V606FS.txt', '/home/f3nr1r/ccdc-task-jan25/testing/Healthy\\\\ Massage\\\\ -\\\\ 390\\\\ S.\\\\ State\\\\ St.\\\\ \\\\ Orem,\\\\ UT/CLEAR-\\\\ UT\\\\ V606FS.txt', '/home/f3nr1r/ccdc-task-jan25/testing/Healthy\\\\ Massage\\\\ -\\\\ 390\\\\ S.\\\\ State\\\\ St.\\\\ \\\\ Orem,\\\\ UT/CLEAR-\\\\ UT\\\\ V606FS.txt', '/home/f3nr1r/ccdc-task-jan25/testing/Healthy\\\\ Massage\\\\ -\\\\ 390\\\\ S.\\\\ State\\\\ St.\\\\ \\\\ Orem,\\\\ UT/CLEAR-\\\\ UT\\\\ V606FS.txt', '/home/f3nr1r/ccdc-task-jan25/testing/Healthy\\\\ Massage\\\\ -\\\\ 390\\\\ S.\\\\ State\\\\ St.\\\\ \\\\ Orem,\\\\ UT/CLEAR-\\\\ UT\\\\ V606FS.txt', '/home/f3nr1r/ccdc-task-jan25/testing/Healthy\\\\ Massage\\\\ -\\\\ 390\\\\ S.\\\\ State\\\\ St.\\\\ \\\\ Orem,\\\\ UT/CLEAR-\\\\ UT\\\\ V606FS.txt', '/home/f3nr1r/ccdc-task-jan25/testing/Healthy\\\\ Massage\\\\ -\\\\ 390\\\\ S.\\\\ State\\\\ St.\\\\ \\\\ Orem,\\\\ UT/CLEAR-\\\\ UT\\\\ V606FS.txt', '/home/f3nr1r/ccdc-task-jan25/testing/Healthy\\\\ Massage\\\\ -\\\\ 390\\\\ S.\\\\ State\\\\ St.\\\\ \\\\ Orem,\\\\ UT/CLEAR-\\\\ UT\\\\ V606FS.txt', '/home/f3nr1r/ccdc-task-jan25/testing/Healthy\\\\ Massage\\\\ -\\\\ 390\\\\ S.\\\\ State\\\\ St.\\\\ \\\\ Orem,\\\\ UT/CLEAR-\\\\ UT\\\\ V606FS.txt', '/home/f3nr1r/ccdc-task-jan25/testing/Healthy\\\\ Massage\\\\ -\\\\ 390\\\\ S.\\\\ State\\\\ St.\\\\ \\\\ Orem,\\\\ UT/CLEAR-\\\\ UT\\\\ V606FS.txt', '/home/f3nr1r/ccdc-task-jan25/testing/Healthy\\\\ Massage\\\\ -\\\\ 390\\\\ S.\\\\ State\\\\ St.\\\\ \\\\ Orem,\\\\ UT/CLEAR-\\\\ UT\\\\ V606FS.txt', '/home/f3nr1r/ccdc-task-jan25/testing/Healthy\\\\ Massage\\\\ -\\\\ 390\\\\ S.\\\\ State\\\\ St.\\\\ \\\\ Orem,\\\\ UT/CLEAR-\\\\ UT\\\\ V606FS.txt', '/home/f3nr1r/ccdc-task-jan25/testing/Healthy\\\\ Massage\\\\ -\\\\ 390\\\\ S.\\\\ State\\\\ St.\\\\ \\\\ Orem,\\\\ UT/CLEAR-\\\\ UT\\\\ V606FS.txt', '/home/f3nr1r/ccdc-task-jan25/testing/Healthy\\\\ Massage\\\\ -\\\\ 390\\\\ S.\\\\ State\\\\ St.\\\\ \\\\ Orem,\\\\ UT/CLEAR-\\\\ UT\\\\ V606FS.txt', '/home/f3nr1r/ccdc-task-jan25/testing/Healthy\\\\ Massage\\\\ -\\\\ 390\\\\ S.\\\\ State\\\\ St.\\\\ \\\\ Orem,\\\\ UT/CLEAR-\\\\ UT\\\\ V606FS.txt', '/home/f3nr1r/ccdc-task-jan25/testing/Healthy\\\\ Massage\\\\ -\\\\ 390\\\\ S.\\\\ State\\\\ St.\\\\ \\\\ Orem,\\\\ UT/CLEAR-\\\\ UT\\\\ V606FS.txt', '/home/f3nr1r/ccdc-task-jan25/testing/Healthy\\\\ Massage\\\\ -\\\\ 390\\\\ S.\\\\ State\\\\ St.\\\\ \\\\ Orem,\\\\ UT/CLEAR-\\\\ UT\\\\ V606FS.txt', '/home/f3nr1r/ccdc-task-jan25/testing/Healthy\\\\ Massage\\\\ -\\\\ 390\\\\ S.\\\\ State\\\\ St.\\\\ \\\\ Orem,\\\\ UT/CLEAR-\\\\ UT\\\\ V606FS.txt', '/home/f3nr1r/ccdc-task-jan25/testing/Healthy\\\\ Massage\\\\ -\\\\ 390\\\\ S.\\\\ State\\\\ St.\\\\ \\\\ Orem,\\\\ UT/CLEAR-\\\\ UT\\\\ V606FS.txt', '/home/f3nr1r/ccdc-task-jan25/testing/Healthy\\\\ Massage\\\\ -\\\\ 390\\\\ S.\\\\ State\\\\ St.\\\\ \\\\ Orem,\\\\ UT/CLEAR-\\\\ UT\\\\ V606FS.txt', '/home/f3nr1r/ccdc-task-jan25/testing/Healthy\\\\ Massage\\\\ -\\\\ 390\\\\ S.\\\\ State\\\\ St.\\\\ \\\\ Orem,\\\\ UT/CLEAR-\\\\ UT\\\\ V606FS.txt', '/home/f3nr1r/ccdc-task-jan25/testing/Healthy\\\\ Massage\\\\ -\\\\ 390\\\\ S.\\\\ State\\\\ St.\\\\ \\\\ Orem,\\\\ UT/CLEAR-\\\\ UT\\\\ V606FS.txt', '/home/f3nr1r/ccdc-task-jan25/testing/Healthy\\\\ Massage\\\\ -\\\\ 390\\\\ S.\\\\ State\\\\ St.\\\\ \\\\ Orem,\\\\ UT/CLEAR-\\\\ UT\\\\ V606FS.txt', '/home/f3nr1r/ccdc-task-jan25/testing/Healthy\\\\ Massage\\\\ -\\\\ 390\\\\ S.\\\\ State\\\\ St.\\\\ \\\\ Orem,\\\\ UT/CLEAR-\\\\ UT\\\\ V606FS.txt', '/home/f3nr1r/ccdc-task-jan25/testing/Healthy\\\\ Massage\\\\ -\\\\ 390\\\\ S.\\\\ State\\\\ St.\\\\ \\\\ Orem,\\\\ UT/CLEAR-\\\\ UT\\\\ V606FS.txt', '/home/f3nr1r/ccdc-task-jan25/testing/Healthy\\\\ Massage\\\\ -\\\\ 390\\\\ S.\\\\ State\\\\ St.\\\\ \\\\ Orem,\\\\ UT/CLEAR-\\\\ UT\\\\ V606FS.txt', '/home/f3nr1r/ccdc-task-jan25/testing/Healthy\\\\ Massage\\\\ -\\\\ 390\\\\ S.\\\\ State\\\\ St.\\\\ \\\\ Orem,\\\\ UT/CLEAR-\\\\ UT\\\\ V606FS.txt', '/home/f3nr1r/ccdc-task-jan25/testing/Healthy\\\\ Massage\\\\ -\\\\ 390\\\\ S.\\\\ State\\\\ St.\\\\ \\\\ Orem,\\\\ UT/CLEAR-\\\\ UT\\\\ V606FS.txt', '/home/f3nr1r/ccdc-task-jan25/testing/Healthy\\\\ Massage\\\\ -\\\\ 390\\\\ S.\\\\ State\\\\ St.\\\\ \\\\ Orem,\\\\ UT/CLEAR-\\\\ UT\\\\ V606FS.txt', '/home/f3nr1r/ccdc-task-jan25/testing/Healthy\\\\ Massage\\\\ -\\\\ 390\\\\ S.\\\\ State\\\\ St.\\\\ \\\\ Orem,\\\\ UT/CLEAR-\\\\ UT\\\\ V606FS.txt', '/home/f3nr1r/ccdc-task-jan25/testing/Healthy\\\\ Massage\\\\ -\\\\ 390\\\\ S.\\\\ State\\\\ St.\\\\ \\\\ Orem,\\\\ UT/CLEAR-\\\\ UT\\\\ V606FS.txt', '/home/f3nr1r/ccdc-task-jan25/testing/Healthy\\\\ Massage\\\\ -\\\\ 390\\\\ S.\\\\ State\\\\ St.\\\\ \\\\ Orem,\\\\ UT/CLEAR-\\\\ UT\\\\ V606FS.txt', '/home/f3nr1r/ccdc-task-jan25/testing/Healthy\\\\ Massage\\\\ -\\\\ 390\\\\ S.\\\\ State\\\\ St.\\\\ \\\\ Orem,\\\\ UT/CLEAR-\\\\ UT\\\\ V606FS.txt', '/home/f3nr1r/ccdc-task-jan25/testing/Healthy\\\\ Massage\\\\ -\\\\ 390\\\\ S.\\\\ State\\\\ St.\\\\ \\\\ Orem,\\\\ UT/CLEAR-\\\\ UT\\\\ V606FS.txt', '/home/f3nr1r/ccdc-task-jan25/testing/Healthy\\\\ Massage\\\\ -\\\\ 390\\\\ S.\\\\ State\\\\ St.\\\\ \\\\ Orem,\\\\ UT/CLEAR-\\\\ UT\\\\ V606FS.txt', '/home/f3nr1r/ccdc-task-jan25/testing/Healthy\\\\ Massage\\\\ -\\\\ 390\\\\ S.\\\\ State\\\\ St.\\\\ \\\\ Orem,\\\\ UT/CLEAR-\\\\ UT\\\\ V606FS.txt', '/home/f3nr1r/ccdc-task-jan25/testing/Healthy\\\\ Massage\\\\ -\\\\ 390\\\\ S.\\\\ State\\\\ St.\\\\ \\\\ Orem,\\\\ UT/CLEAR-\\\\ UT\\\\ V606FS.txt', '/home/f3nr1r/ccdc-task-jan25/testing/Healthy\\\\ Massage\\\\ -\\\\ 390\\\\ S.\\\\ State\\\\ St.\\\\ \\\\ Orem,\\\\ UT/CLEAR-\\\\ UT\\\\ V606FS.txt', '/home/f3nr1r/ccdc-task-jan25/testing/Healthy\\\\ Massage\\\\ -\\\\ 390\\\\ S.\\\\ State\\\\ St.\\\\ \\\\ Orem,\\\\ UT/CLEAR-\\\\ UT\\\\ V606FS.txt', '/home/f3nr1r/ccdc-task-jan25/testing/Healthy\\\\ Massage\\\\ -\\\\ 390\\\\ S.\\\\ State\\\\ St.\\\\ \\\\ Orem,\\\\ UT/CLEAR-\\\\ UT\\\\ V606FS.txt', '/home/f3nr1r/ccdc-task-jan25/testing/Healthy\\\\ Massage\\\\ -\\\\ 390\\\\ S.\\\\ State\\\\ St.\\\\ \\\\ Orem,\\\\ UT/CLEAR-\\\\ UT\\\\ V606FS.txt', '/home/f3nr1r/ccdc-task-jan25/testing/Healthy\\\\ Massage\\\\ -\\\\ 390\\\\ S.\\\\ State\\\\ St.\\\\ \\\\ Orem,\\\\ UT/CLEAR-\\\\ UT\\\\ V606FS.txt', '/home/f3nr1r/ccdc-task-jan25/testing/Healthy\\\\ Massage\\\\ -\\\\ 390\\\\ S.\\\\ State\\\\ St.\\\\ \\\\ Orem,\\\\ UT/CLEAR-\\\\ UT\\\\ V606FS.txt', '/home/f3nr1r/ccdc-task-jan25/testing/Healthy\\\\ Massage\\\\ -\\\\ 390\\\\ S.\\\\ State\\\\ St.\\\\ \\\\ Orem,\\\\ UT/CLEAR-\\\\ UT\\\\ V606FS.txt', '/home/f3nr1r/ccdc-task-jan25/testing/Healthy\\\\ Massage\\\\ -\\\\ 390\\\\ S.\\\\ State\\\\ St.\\\\ \\\\ Orem,\\\\ UT/CLEAR-\\\\ UT\\\\ V606FS.txt', '/home/f3nr1r/ccdc-task-jan25/testing/Healthy\\\\ Massage\\\\ -\\\\ 390\\\\ S.\\\\ State\\\\ St.\\\\ \\\\ Orem,\\\\ UT/CLEAR-\\\\ UT\\\\ V606FS.txt', '/home/f3nr1r/ccdc-task-jan25/testing/Healthy\\\\ Massage\\\\ -\\\\ 390\\\\ S.\\\\ State\\\\ St.\\\\ \\\\ Orem,\\\\ UT/CLEAR-\\\\ UT\\\\ V606FS.txt', '/home/f3nr1r/ccdc-task-jan25/testing/Healthy\\\\ Massage\\\\ -\\\\ 390\\\\ S.\\\\ State\\\\ St.\\\\ \\\\ Orem,\\\\ UT/CLEAR-\\\\ UT\\\\ V606FS.txt', '/home/f3nr1r/ccdc-task-jan25/testing/Healthy\\\\ Massage\\\\ -\\\\ 390\\\\ S.\\\\ State\\\\ St.\\\\ \\\\ Orem,\\\\ UT/CLEAR-\\\\ UT\\\\ V606FS.txt', '/home/f3nr1r/ccdc-task-jan25/testing/Healthy\\\\ Massage\\\\ -\\\\ 390\\\\ S.\\\\ State\\\\ St.\\\\ \\\\ Orem,\\\\ UT/CLEAR-\\\\ UT\\\\ V606FS.txt', '/home/f3nr1r/ccdc-task-jan25/testing/Healthy\\\\ Massage\\\\ -\\\\ 390\\\\ S.\\\\ State\\\\ St.\\\\ \\\\ Orem,\\\\ UT/CLEAR-\\\\ UT\\\\ V606FS.txt', '/home/f3nr1r/ccdc-task-jan25/testing/Healthy\\\\ Massage\\\\ -\\\\ 390\\\\ S.\\\\ State\\\\ St.\\\\ \\\\ Orem,\\\\ UT/CLEAR-\\\\ UT\\\\ V606FS.txt', '/home/f3nr1r/ccdc-task-jan25/testing/Healthy\\\\ Massage\\\\ -\\\\ 390\\\\ S.\\\\ State\\\\ St.\\\\ \\\\ Orem,\\\\ UT/CLEAR-\\\\ UT\\\\ V606FS.txt', '/home/f3nr1r/ccdc-task-jan25/testing/Healthy\\\\ Massage\\\\ -\\\\ 390\\\\ S.\\\\ State\\\\ St.\\\\ \\\\ Orem,\\\\ UT/CLEAR-\\\\ UT\\\\ V606FS.txt', '/home/f3nr1r/ccdc-task-jan25/testing/Healthy\\\\ Massage\\\\ -\\\\ 390\\\\ S.\\\\ State\\\\ St.\\\\ \\\\ Orem,\\\\ UT/CLEAR-\\\\ UT\\\\ V606FS.txt', '/home/f3nr1r/ccdc-task-jan25/testing/Healthy\\\\ Massage\\\\ -\\\\ 390\\\\ S.\\\\ State\\\\ St.\\\\ \\\\ Orem,\\\\ UT/CLEAR-\\\\ UT\\\\ V606FS.txt', '/home/f3nr1r/ccdc-task-jan25/testing/Healthy\\\\ Massage\\\\ -\\\\ 390\\\\ S.\\\\ State\\\\ St.\\\\ \\\\ Orem,\\\\ UT/CLEAR-\\\\ UT\\\\ V606FS.txt', '/home/f3nr1r/ccdc-task-jan25/testing/Healthy\\\\ Massage\\\\ -\\\\ 390\\\\ S.\\\\ State\\\\ St.\\\\ \\\\ Orem,\\\\ UT/CLEAR-\\\\ UT\\\\ V606FS.txt', '/home/f3nr1r/ccdc-task-jan25/testing/Healthy\\\\ Massage\\\\ -\\\\ 390\\\\ S.\\\\ State\\\\ St.\\\\ \\\\ Orem,\\\\ UT/CLEAR-\\\\ UT\\\\ V606FS.txt', '/home/f3nr1r/ccdc-task-jan25/testing/Healthy\\\\ Massage\\\\ -\\\\ 390\\\\ S.\\\\ State\\\\ St.\\\\ \\\\ Orem,\\\\ UT/CLEAR-\\\\ UT\\\\ V606FS.txt', '/home/f3nr1r/ccdc-task-jan25/testing/Healthy\\\\ Massage\\\\ -\\\\ 390\\\\ S.\\\\ State\\\\ St.\\\\ \\\\ Orem,\\\\ UT/CLEAR-\\\\ UT\\\\ V606FS.txt', '/home/f3nr1r/ccdc-task-jan25/testing/Healthy\\\\ Massage\\\\ -\\\\ 390\\\\ S.\\\\ State\\\\ St.\\\\ \\\\ Orem,\\\\ UT/CLEAR-\\\\ UT\\\\ V606FS.txt', '/home/f3nr1r/ccdc-task-jan25/testing/Healthy\\\\ Massage\\\\ -\\\\ 390\\\\ S.\\\\ State\\\\ St.\\\\ \\\\ Orem,\\\\ UT/CLEAR-\\\\ UT\\\\ V606FS.txt', '/home/f3nr1r/ccdc-task-jan25/testing/Healthy\\\\ Massage\\\\ -\\\\ 390\\\\ S.\\\\ State\\\\ St.\\\\ \\\\ Orem,\\\\ UT/CLEAR-\\\\ UT\\\\ V606FS.txt', '/home/f3nr1r/ccdc-task-jan25/testing/Healthy\\\\ Massage\\\\ -\\\\ 390\\\\ S.\\\\ State\\\\ St.\\\\ \\\\ Orem,\\\\ UT/CLEAR-\\\\ UT\\\\ V606FS.txt', '/home/f3nr1r/ccdc-task-jan25/testing/Healthy\\\\ Massage\\\\ -\\\\ 390\\\\ S.\\\\ State\\\\ St.\\\\ \\\\ Orem,\\\\ UT/CLEAR-\\\\ UT\\\\ V606FS.txt', '/home/f3nr1r/ccdc-task-jan25/testing/Healthy\\\\ Massage\\\\ -\\\\ 390\\\\ S.\\\\ State\\\\ St.\\\\ \\\\ Orem,\\\\ UT/CLEAR-\\\\ UT\\\\ V606FS.txt', '/home/f3nr1r/ccdc-task-jan25/testing/Healthy\\\\ Massage\\\\ -\\\\ 390\\\\ S.\\\\ State\\\\ St.\\\\ \\\\ Orem,\\\\ UT/CLEAR-\\\\ UT\\\\ V606FS.txt', '/home/f3nr1r/ccdc-task-jan25/testing/Healthy\\\\ Massage\\\\ -\\\\ 390\\\\ S.\\\\ State\\\\ St.\\\\ \\\\ Orem,\\\\ UT/CLEAR-\\\\ UT\\\\ V606FS.txt', '/home/f3nr1r/ccdc-task-jan25/testing/Healthy\\\\ Massage\\\\ -\\\\ 390\\\\ S.\\\\ State\\\\ St.\\\\ \\\\ Orem,\\\\ UT/CLEAR-\\\\ UT\\\\ V606FS.txt', '/home/f3nr1r/ccdc-task-jan25/testing/Healthy\\\\ Massage\\\\ -\\\\ 390\\\\ S.\\\\ State\\\\ St.\\\\ \\\\ Orem,\\\\ UT/CLEAR-\\\\ UT\\\\ V606FS.txt', '/home/f3nr1r/ccdc-task-jan25/testing/Healthy\\\\ Massage\\\\ -\\\\ 390\\\\ S.\\\\ State\\\\ St.\\\\ \\\\ Orem,\\\\ UT/CLEAR-\\\\ UT\\\\ V606FS.txt', '/home/f3nr1r/ccdc-task-jan25/testing/Healthy\\\\ Massage\\\\ -\\\\ 390\\\\ S.\\\\ State\\\\ St.\\\\ \\\\ Orem,\\\\ UT/CLEAR-\\\\ UT\\\\ V606FS.txt', '/home/f3nr1r/ccdc-task-jan25/testing/Healthy\\\\ Massage\\\\ -\\\\ 390\\\\ S.\\\\ State\\\\ St.\\\\ \\\\ Orem,\\\\ UT/CLEAR-\\\\ UT\\\\ V606FS.txt', '/home/f3nr1r/ccdc-task-jan25/testing/Healthy\\\\ Massage\\\\ -\\\\ 390\\\\ S.\\\\ State\\\\ St.\\\\ \\\\ Orem,\\\\ UT/CLEAR-\\\\ UT\\\\ V606FS.txt', '/home/f3nr1r/ccdc-task-jan25/testing/Healthy\\\\ Massage\\\\ -\\\\ 390\\\\ S.\\\\ State\\\\ St.\\\\ \\\\ Orem,\\\\ UT/CLEAR-\\\\ UT\\\\ V606FS.txt']\n"
     ]
    }
   ],
   "source": [
    "new_fpaths = make_new_fpaths(fpaths, 'txt')\n",
    "print(new_fpaths)"
   ]
  },
  {
   "cell_type": "code",
   "execution_count": 69,
   "metadata": {},
   "outputs": [],
   "source": [
    "for fpath in new_fpaths\n",
    "    cmd = ' '.join(['pdftotext', in_fname, out_fname ])"
   ]
  },
  {
   "cell_type": "code",
   "execution_count": 70,
   "metadata": {},
   "outputs": [
    {
     "name": "stdout",
     "output_type": "stream",
     "text": [
      "pdftotext /home/f3nr1r/ccdc-task-jan25/Healthy\\ Massage\\ -\\ 390\\ S.\\ State\\ St.\\ \\ Orem,\\ UT/CLEAR-\\ UT\\ V606FS.pdf /home/f3nr1r/ccdc-task-jan25/testing/tests.txt\n"
     ]
    }
   ],
   "source": [
    "print(cmd)"
   ]
  },
  {
   "cell_type": "code",
   "execution_count": 71,
   "metadata": {},
   "outputs": [
    {
     "data": {
      "text/plain": [
       "0"
      ]
     },
     "execution_count": 71,
     "metadata": {},
     "output_type": "execute_result"
    }
   ],
   "source": [
    "system(cmd)"
   ]
  },
  {
   "cell_type": "code",
   "execution_count": 73,
   "metadata": {},
   "outputs": [],
   "source": []
  },
  {
   "cell_type": "code",
   "execution_count": 74,
   "metadata": {},
   "outputs": [
    {
     "name": "stdout",
     "output_type": "stream",
     "text": [
      "CLEAR-\\ UT\\ V606FS.pdf pdf\n"
     ]
    }
   ],
   "source": [
    "print(x, ftype)"
   ]
  },
  {
   "cell_type": "code",
   "execution_count": 75,
   "metadata": {},
   "outputs": [],
   "source": []
  },
  {
   "cell_type": "code",
   "execution_count": 76,
   "metadata": {},
   "outputs": [
    {
     "name": "stdout",
     "output_type": "stream",
     "text": [
      "/home/f3nr1r/ccdc-task-jan25/Healthy\\ Massage\\ -\\ 390\\ S.\\ State\\ St.\\ \\ Orem,\\ UT/CLEAR-\\ UT\\ V606FS.txt\n"
     ]
    }
   ],
   "source": []
  },
  {
   "cell_type": "code",
   "execution_count": null,
   "metadata": {},
   "outputs": [],
   "source": [
    "#for fname in fpaths:\n",
    "#    with open(fname, \"rb\") as f:\n",
    "#        data = readlines(f)\n",
    "\n",
    "#with open(fname, \"rb\") as f:\n",
    "#    data = f.readlines(f)"
   ]
  }
 ],
 "metadata": {
  "kernelspec": {
   "display_name": "Python 3",
   "language": "python",
   "name": "python3"
  },
  "language_info": {
   "codemirror_mode": {
    "name": "ipython",
    "version": 3
   },
   "file_extension": ".py",
   "mimetype": "text/x-python",
   "name": "python",
   "nbconvert_exporter": "python",
   "pygments_lexer": "ipython3",
   "version": "3.7.1"
  }
 },
 "nbformat": 4,
 "nbformat_minor": 2
}
