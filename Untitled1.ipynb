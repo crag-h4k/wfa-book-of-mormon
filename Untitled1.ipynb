{
 "cells": [
  {
   "cell_type": "code",
   "execution_count": 11,
   "metadata": {},
   "outputs": [],
   "source": [
    "class Company:\n",
    "    def __init__(self, account_info, subs=[], token=''):\n",
    "        self.account_info = account_info\n",
    "        self.subs = subs\n",
    "        self.token = token\n",
    "info = {'whulme':'aaroniscute'}\n",
    "s = [{'asdfasd;jlk':'asdfasdf'},\n",
    "    {'adsfsd':'sdadasf'},\n",
    "    ]\n",
    "t = 'aaroniscute'\n",
    "cocacola = Company(account_info=info, subs=s, token=t)\n",
    "\n",
    "print(cocacola.account_info)\n",
    "print(cocacola.subs)"
   ]
  },
  {
   "cell_type": "code",
   "execution_count": 20,
   "metadata": {},
   "outputs": [],
   "source": [
    "info = {'whulme':'aaroniscute'}\n",
    "s = [{'asdfasd;jlk':'asdfasdf'},\n",
    "    {'adsfsd':'sdadasf'},\n",
    "    ]\n",
    "t = 'aaroniscute'\n",
    "cocacola = Company(account_info=info, subs=s, token=t)"
   ]
  },
  {
   "cell_type": "code",
   "execution_count": 23,
   "metadata": {},
   "outputs": [
    {
     "name": "stdout",
     "output_type": "stream",
     "text": [
      "{'whulme': 'aaroniscute'}\n"
     ]
    }
   ],
   "source": [
    "print(cocacola.account_info)"
   ]
  },
  {
   "cell_type": "code",
   "execution_count": 24,
   "metadata": {},
   "outputs": [
    {
     "name": "stdout",
     "output_type": "stream",
     "text": [
      "[{'asdfasd;jlk': 'asdfasdf'}, {'adsfsd': 'sdadasf'}]\n"
     ]
    }
   ],
   "source": [
    "print(cocacola.subs)"
   ]
  },
  {
   "cell_type": "raw",
   "metadata": {},
   "source": [
    "print(cocacola.token)"
   ]
  },
  {
   "cell_type": "code",
   "execution_count": null,
   "metadata": {},
   "outputs": [],
   "source": [
    "with open(pass_file, )"
   ]
  }
 ],
 "metadata": {
  "kernelspec": {
   "display_name": "Python 3",
   "language": "python",
   "name": "python3"
  },
  "language_info": {
   "codemirror_mode": {
    "name": "ipython",
    "version": 3
   },
   "file_extension": ".py",
   "mimetype": "text/x-python",
   "name": "python",
   "nbconvert_exporter": "python",
   "pygments_lexer": "ipython3",
   "version": "3.7.1"
  }
 },
 "nbformat": 4,
 "nbformat_minor": 2
}
