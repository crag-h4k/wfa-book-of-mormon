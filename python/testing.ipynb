{
 "cells": [
  {
   "cell_type": "code",
   "execution_count": 4,
   "metadata": {},
   "outputs": [],
   "source": [
    "from pprint import pprint\n",
    "\n",
    "from numpy import save, load\n",
    "from tqdm import tqdm\n",
    "\n",
    "from Reference import make_references, Word_Count\n",
    "from search import find_valid_refs, get_all_words, find_unique_words \n",
    "from get_data import get_raw_verses, get_data\n",
    "\n"
   ]
  },
  {
   "cell_type": "code",
   "execution_count": 5,
   "metadata": {},
   "outputs": [],
   "source": [
    "class Word:\n",
    "    def __init__(self, text='', count=int(0)):\n",
    "        self.text = text\n",
    "        self.count = count"
   ]
  },
  {
   "cell_type": "code",
   "execution_count": 42,
   "metadata": {},
   "outputs": [],
   "source": [
    "fname = '../json/book-of-mormon.json'\n",
    "xfname = '../json/book-of-mormon-flat.json'\n",
    "raw = get_data(xfname)\n",
    "data = get_raw_verses(raw)\n",
    "Refs = make_references(data)\n",
    "#raw_all_words = get_all_words(Refs)"
   ]
  },
  {
   "cell_type": "code",
   "execution_count": 44,
   "metadata": {},
   "outputs": [],
   "source": [
    "raw_all_words = []\n",
    "for Ref in Refs:\n",
    "    for word in Ref.text:\n",
    "        raw_all_words.append(word)\n",
    "raw_all_words.sort()\n",
    "print(len(raw_all_words))"
   ]
  },
  {
   "cell_type": "code",
   "execution_count": 44,
   "metadata": {},
   "outputs": [
    {
     "name": "stderr",
     "output_type": "stream",
     "text": [
      " 17%|█▋        | 44832/266938 [00:00<00:01, 209434.83it/s]"
     ]
    },
    {
     "name": "stdout",
     "output_type": "stream",
     "text": [
      "266938\n"
     ]
    },
    {
     "name": "stderr",
     "output_type": "stream",
     "text": [
      "100%|██████████| 266938/266938 [00:17<00:00, 15112.00it/s]\n"
     ]
    }
   ],
   "source": [
    "unique_words = []\n",
    "for word in tqdm(raw_all_words):\n",
    "    if word in unique_words: continue\n",
    "    else: unique_words.append(word)"
   ]
  },
  {
   "cell_type": "code",
   "execution_count": 45,
   "metadata": {},
   "outputs": [
    {
     "name": "stderr",
     "output_type": "stream",
     "text": [
      "  8%|▊         | 478/5976 [00:21<04:02, 22.65it/s]"
     ]
    },
    {
     "ename": "KeyboardInterrupt",
     "evalue": "",
     "output_type": "error",
     "traceback": [
      "\u001b[0;31m---------------------------------------------------------------------------\u001b[0m",
      "\u001b[0;31mKeyboardInterrupt\u001b[0m                         Traceback (most recent call last)",
      "\u001b[0;32m<ipython-input-45-a68402f54975>\u001b[0m in \u001b[0;36m<module>\u001b[0;34m\u001b[0m\n\u001b[1;32m      2\u001b[0m \u001b[0;32mfor\u001b[0m \u001b[0mword\u001b[0m \u001b[0;32min\u001b[0m \u001b[0mtqdm\u001b[0m\u001b[0;34m(\u001b[0m\u001b[0munique_words\u001b[0m\u001b[0;34m)\u001b[0m\u001b[0;34m:\u001b[0m\u001b[0;34m\u001b[0m\u001b[0;34m\u001b[0m\u001b[0m\n\u001b[1;32m      3\u001b[0m     \u001b[0mW\u001b[0m \u001b[0;34m=\u001b[0m \u001b[0mWord\u001b[0m\u001b[0;34m(\u001b[0m\u001b[0mtext\u001b[0m\u001b[0;34m=\u001b[0m\u001b[0mword\u001b[0m\u001b[0;34m)\u001b[0m\u001b[0;34m\u001b[0m\u001b[0;34m\u001b[0m\u001b[0m\n\u001b[0;32m----> 4\u001b[0;31m     \u001b[0;32mfor\u001b[0m \u001b[0m_word\u001b[0m \u001b[0;32min\u001b[0m \u001b[0mraw_all_words\u001b[0m\u001b[0;34m:\u001b[0m\u001b[0;34m\u001b[0m\u001b[0;34m\u001b[0m\u001b[0m\n\u001b[0m\u001b[1;32m      5\u001b[0m         \u001b[0;32mif\u001b[0m \u001b[0m_word\u001b[0m \u001b[0;34m!=\u001b[0m \u001b[0mW\u001b[0m\u001b[0;34m.\u001b[0m\u001b[0mtext\u001b[0m\u001b[0;34m:\u001b[0m\u001b[0;34m\u001b[0m\u001b[0;34m\u001b[0m\u001b[0m\n\u001b[1;32m      6\u001b[0m             \u001b[0;32mcontinue\u001b[0m\u001b[0;34m\u001b[0m\u001b[0;34m\u001b[0m\u001b[0m\n",
      "\u001b[0;31mKeyboardInterrupt\u001b[0m: "
     ]
    }
   ],
   "source": [
    "word_objs = []\n",
    "for word in tqdm(unique_words):\n",
    "    W = Word(text=word)\n",
    "    for _word in raw_all_words:\n",
    "        if _word != W.text:\n",
    "            continue\n",
    "        else:\n",
    "            W.count += 1\n",
    "    word_objs.append(W)"
   ]
  },
  {
   "cell_type": "code",
   "execution_count": 6,
   "metadata": {},
   "outputs": [],
   "source": [
    "#save('./word-objs.npy', word_objs)\n",
    "word_objs = load('./word-objs.npy')\n",
    "w_sorted = sorted(word_objs, key = lambda w: w.count, reverse=True)\n",
    "#save('./w_sorted.npy', w_sorted)"
   ]
  },
  {
   "cell_type": "code",
   "execution_count": 7,
   "metadata": {},
   "outputs": [],
   "source": [
    "def find_word_count(w_objs, pattern):\n",
    "    found = False\n",
    "    for W in w_objs: \n",
    "        if W.text == pattern:\n",
    "            print(W.text, W.count)\n",
    "            return W\n",
    "    return found"
   ]
  },
  {
   "cell_type": "code",
   "execution_count": 8,
   "metadata": {},
   "outputs": [
    {
     "name": "stdout",
     "output_type": "stream",
     "text": [
      "alpha 1\n",
      "omega 1\n",
      "anointed 8\n",
      "ascension 4\n",
      "beginning 55\n",
      "begotten 11\n",
      "blood 148\n",
      "comforter 1\n",
      "conscience 5\n",
      "creator 10\n",
      "cross 22\n",
      "endless 24\n",
      "faith 259\n",
      "firstborn 6\n",
      "god 1656\n",
      "shepherd 21\n",
      "grace 31\n",
      "immanuel 2\n",
      "jehovah 2\n",
      "lamb 74\n",
      "light 98\n",
      "lord 1552\n",
      "mediator 2\n",
      "messiah 32\n",
      "redeem 25\n",
      "redeemed 34\n",
      "redemption 51\n",
      "redeemer 41\n",
      "resurrection 79\n",
      "rock 33\n",
      "sacrament 1\n",
      "sacrifice 15\n",
      "savior 12\n",
      "way 144\n"
     ]
    }
   ],
   "source": [
    "from cfg import jesus_aliases\n",
    "christ_names = []\n",
    "christ_counts = []\n",
    "for alias in jesus_aliases:\n",
    "    W = find_word_count(w_sorted, alias)\n",
    "    if W != False:\n",
    "        christ_names.append(W.text)\n",
    "        christ_counts.append(W.count)"
   ]
  },
  {
   "cell_type": "code",
   "execution_count": 9,
   "metadata": {},
   "outputs": [
    {
     "data": {
      "text/plain": [
       "<BarContainer object of 34 artists>"
      ]
     },
     "execution_count": 9,
     "metadata": {},
     "output_type": "execute_result"
    }
   ],
   "source": [
    "import matplotlib.pyplot as plt\n",
    "plt.bar(christ_names, christ_counts)"
   ]
  },
  {
   "cell_type": "code",
   "execution_count": 12,
   "metadata": {},
   "outputs": [
    {
     "data": {
      "text/plain": [
       "<BarContainer object of 34 artists>"
      ]
     },
     "execution_count": 12,
     "metadata": {},
     "output_type": "execute_result"
    },
    {
     "data": {
      "image/png": "[encoded data removed]",
      "text/plain": [
       "<Figure size 432x288 with 1 Axes>"
      ]
     },
     "metadata": {
      "needs_background": "light"
     },
     "output_type": "display_data"
    }
   ],
   "source": [
    "plt.bar(christ_names, christ_counts)"
   ]
  },
  {
   "cell_type": "code",
   "execution_count": 11,
   "metadata": {},
   "outputs": [],
   "source": [
    "plt.show()"
   ]
  },
  {
   "cell_type": "code",
   "execution_count": 56,
   "metadata": {},
   "outputs": [],
   "source": [
    "#v_refs = find_valid_refs(Refs,'aaron')\n",
    "#for ref in v_refs:\n",
    "#    print(ref.reference)\n",
    "#print(len(v_refs))\n",
    "#Ws = []\n",
    "#for word in unique_words:\n",
    "#    Ws.append(Word_Count(word))\n",
    "#for W in Ws:\n",
    "#    for x in raw_all_words:\n",
    "#        if W.word == x:\n",
    "            "
   ]
  },
  {
   "cell_type": "code",
   "execution_count": null,
   "metadata": {},
   "outputs": [],
   "source": [
    "#for x in "
   ]
  },
  {
   "cell_type": "code",
   "execution_count": null,
   "metadata": {},
   "outputs": [],
   "source": []
  }
 ],
 "metadata": {
  "kernelspec": {
   "display_name": "Python 3",
   "language": "python",
   "name": "python3"
  },
  "language_info": {
   "codemirror_mode": {
    "name": "ipython",
    "version": 3
   },
   "file_extension": ".py",
   "mimetype": "text/x-python",
   "name": "python",
   "nbconvert_exporter": "python",
   "pygments_lexer": "ipython3",
   "version": "3.7.1"
  }
 },
 "nbformat": 4,
 "nbformat_minor": 2
}
