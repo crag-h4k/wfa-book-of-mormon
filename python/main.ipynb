{
 "cells": [
  {
   "cell_type": "code",
   "execution_count": 5,
   "metadata": {},
   "outputs": [
    {
     "name": "stdout",
     "output_type": "stream",
     "text": [
      "alpha 1\n",
      "omega 1\n",
      "anointed 8\n",
      "ascension 4\n",
      "beginning 55\n",
      "begotten 11\n",
      "blood 148\n",
      "christ 375\n",
      "comforter 1\n",
      "conscience 5\n",
      "creator 10\n",
      "cross 22\n",
      "endless 24\n",
      "faith 259\n",
      "firstborn 6\n",
      "god 1656\n",
      "shepherd 21\n",
      "grace 31\n",
      "immanuel 2\n",
      "jehovah 2\n",
      "lamb 74\n",
      "light 98\n",
      "lord 1552\n",
      "jesus 184\n",
      "mediator 2\n",
      "messiah 32\n",
      "redeem 25\n",
      "redeemed 34\n",
      "redemption 51\n",
      "redeemer 41\n",
      "resurrection 79\n",
      "rock 33\n",
      "sacrament 1\n",
      "sacrifice 15\n",
      "savior 12\n",
      "son 329\n",
      "way 144\n"
     ]
    }
   ],
   "source": [
    "from pprint import pprint\n",
    "\n",
    "from numpy import save, load, array\n",
    "import math\n",
    "from tqdm import tqdm\n",
    "import plotly.plotly as py\n",
    "import plotly.tools as tls\n",
    "import matplotlib.pyplot as plt\n",
    "import seaborn as sns\n",
    "import pandas as pd\n",
    "\n",
    "from Reference import make_references, Word_Count\n",
    "from search import find_valid_refs, get_all_words, find_unique_words \n",
    "from get_data import get_raw_verses, get_data\n",
    "from cfg import jesus_aliases, gospel_steps, books\n",
    "\n",
    "class Word:\n",
    "    def __init__(self, text='', count=int(0), references = []):\n",
    "        self.text = text\n",
    "        self.count = count\n",
    "        self.references = []\n",
    "        \n",
    "def find_word_count(w_objs, pattern):\n",
    "    found = False\n",
    "    for W in w_objs: \n",
    "        if W.text != pattern:\n",
    "            continue\n",
    "        else:\n",
    "            #print(W.text, W.count)\n",
    "            return W\n",
    "\n",
    "\n",
    "def make_objs():\n",
    "    fname = '../json/book-of-mormon.json'\n",
    "    xfname = '../json/book-of-mormon-flat.json'\n",
    "    raw = get_data(xfname)\n",
    "    data = get_raw_verses(raw)\n",
    "    Refs = make_references(data)\n",
    "    #raw_all_words = get_all_words(Refs)\n",
    "    raw_all_words = []\n",
    "    \n",
    "    for Ref in Refs:\n",
    "        for word in Ref.text:\n",
    "            raw_all_words.append(word)\n",
    "\n",
    "    raw_all_words.sort()\n",
    "\n",
    "    unique_words = []\n",
    "\n",
    "    for word in tqdm(raw_all_words):\n",
    "        if word in unique_words: continue\n",
    "        else: unique_words.append(word)\n",
    "    word_objs = []\n",
    "    \n",
    "    for word in tqdm(unique_words):\n",
    "        W = Word(text=word)\n",
    "        for _word in raw_all_words:\n",
    "            if _word != W.text:\n",
    "                continue\n",
    "            else:\n",
    "                W.count += 1\n",
    "        word_objs.append(W)\n",
    "    return word_objs\n",
    "\n",
    "def find_Words(w_sorted, pattern_list):\n",
    "    texts  = []\n",
    "    counts = []\n",
    "    valid = []\n",
    "    for pattern in pattern_list:\n",
    "        W = find_word_count(w_sorted, pattern)\n",
    "        if W is None:\n",
    "            continue\n",
    "        else:\n",
    "            print(W.text, W.count)\n",
    "            valid.append(W)\n",
    "    return valid\n",
    "\n",
    "\n",
    "\n",
    "fname = '../json/book-of-mormon.json'\n",
    "xfname = '../json/book-of-mormon-flat.json'\n",
    "raw = get_data(xfname)\n",
    "data = get_raw_verses(raw)\n",
    "Refs = make_references(data)\n",
    "\n",
    "word_objs = load('./word-objs.npy')\n",
    "w_sorted = sorted(word_objs, key = lambda w: w.count, reverse=True)\n",
    "christ_aliases = find_Words(w_sorted, jesus_aliases)\n"
   ]
  },
  {
   "cell_type": "code",
   "execution_count": 10,
   "metadata": {},
   "outputs": [],
   "source": [
    "christ_book_references = []\n",
    "\n",
    "for i in christ_aliases:\n",
    "    #print(i.text, i.count)\n",
    "    v_refs = find_valid_refs(Refs,i.text)\n",
    "    for ref in v_refs:\n",
    "        christ_book_references.append(ref.reference)\n",
    "        #print(i.text,ref.reference)\n",
    "#print(christ_book_references)\n"
   ]
  },
  {
   "cell_type": "code",
   "execution_count": 15,
   "metadata": {},
   "outputs": [
    {
     "name": "stderr",
     "output_type": "stream",
     "text": [
      "  0%|          | 0/15 [00:00<?, ?it/s]\n",
      "  0%|          | 0/5348 [00:00<?, ?it/s]\u001b[A\n",
      "100%|██████████| 5348/5348 [00:00<00:00, 1915554.04it/s]\u001b[A\n",
      "  0%|          | 0/5348 [00:00<?, ?it/s]\u001b[A\n",
      "100%|██████████| 5348/5348 [00:00<00:00, 1255591.26it/s]\u001b[A\n",
      "  0%|          | 0/5348 [00:00<?, ?it/s]\u001b[A\n",
      "100%|██████████| 5348/5348 [00:00<00:00, 1636831.42it/s]\u001b[A\n",
      "  0%|          | 0/5348 [00:00<?, ?it/s]\u001b[A\n",
      "100%|██████████| 5348/5348 [00:00<00:00, 1679857.54it/s]\u001b[A\n",
      "  0%|          | 0/5348 [00:00<?, ?it/s]\u001b[A\n",
      "100%|██████████| 5348/5348 [00:00<00:00, 683917.85it/s]\u001b[A\n",
      "  0%|          | 0/5348 [00:00<?, ?it/s]\u001b[A\n",
      "100%|██████████| 5348/5348 [00:00<00:00, 1902233.53it/s]\u001b[A\n",
      "  0%|          | 0/5348 [00:00<?, ?it/s]\u001b[A\n",
      "100%|██████████| 5348/5348 [00:00<00:00, 1154637.25it/s]\u001b[A\n",
      "  0%|          | 0/5348 [00:00<?, ?it/s]\u001b[A\n",
      "100%|██████████| 5348/5348 [00:00<00:00, 1267081.16it/s]\u001b[A\n",
      "  0%|          | 0/5348 [00:00<?, ?it/s]\u001b[A\n",
      "100%|██████████| 5348/5348 [00:00<00:00, 1791767.54it/s]\u001b[A\n",
      "  0%|          | 0/5348 [00:00<?, ?it/s]\u001b[A\n",
      " 67%|██████▋   | 10/15 [00:00<00:00, 99.86it/s]\n",
      "  0%|          | 0/5348 [00:00<?, ?it/s]\u001b[A\n",
      "100%|██████████| 5348/5348 [00:00<00:00, 1007778.68it/s]\u001b[A\n",
      "  0%|          | 0/5348 [00:00<?, ?it/s]\u001b[A\n",
      "100%|██████████| 5348/5348 [00:00<00:00, 1256575.98it/s]\u001b[A\n",
      "  0%|          | 0/5348 [00:00<?, ?it/s]\u001b[A\n",
      "100%|██████████| 5348/5348 [00:00<00:00, 1549325.72it/s]\u001b[A\n",
      "  0%|          | 0/5348 [00:00<?, ?it/s]\u001b[A\n",
      "100%|██████████| 5348/5348 [00:00<00:00, 1419872.00it/s]\u001b[A\n",
      "  0%|          | 0/5348 [00:00<?, ?it/s]\u001b[A\n",
      "100%|██████████| 15/15 [00:00<00:00, 101.59it/s]\n"
     ]
    }
   ],
   "source": [
    "x = books\n",
    "y = []\n",
    "area = lambda i:i*i\n",
    "\n",
    "for book in tqdm(books):\n",
    "    i = 0\n",
    "    for _ref in christ_book_references:\n",
    "        if book in _ref:\n",
    "            i += 1\n",
    "    y.append(i)\n",
    "    text = book + ',' + str(i) + '\\n'\n",
    "    with open('mentions-of-christ.csv','a+') as f: \n",
    "        f.write(text)\n",
    "#bubble_mpl = plt.figure()"
   ]
  },
  {
   "cell_type": "code",
   "execution_count": 13,
   "metadata": {},
   "outputs": [
    {
     "name": "stdout",
     "output_type": "stream",
     "text": [
      "[572, 751, 189, 32, 13, 24, 17, 635, 1454, 302, 424, 49, 263, 370, 270]\n"
     ]
    }
   ],
   "source": [
    "print(y)\n",
    "\n",
    "    for in i\n",
    "    text = "
   ]
  },
  {
   "cell_type": "code",
   "execution_count": 12,
   "metadata": {},
   "outputs": [
    {
     "data": {
      "text/plain": [
       "<BarContainer object of 15 artists>"
      ]
     },
     "execution_count": 12,
     "metadata": {},
     "output_type": "execute_result"
    },
    {
     "data": {
      "image/png": "[encoded data removed]",
      "text/plain": [
       "<Figure size 432x288 with 1 Axes>"
      ]
     },
     "metadata": {
      "needs_background": "light"
     },
     "output_type": "display_data"
    }
   ],
   "source": [
    "plt.barh(x,y)"
   ]
  },
  {
   "cell_type": "code",
   "execution_count": 12,
   "metadata": {},
   "outputs": [],
   "source": [
    "gs_text= []\n",
    "gs_counts = []\n",
    "for step in gospel_steps:\n",
    "    W = find_word_count(w_sorted, step)\n",
    "    if W != False:\n",
    "        christ_names.append(W.text)\n",
    "        christ_counts.append(W.count)\n",
    "x = \n",
    "x = bom_books\n",
    "\n",
    "y = 0"
   ]
  },
  {
   "cell_type": "code",
   "execution_count": null,
   "metadata": {},
   "outputs": [],
   "source": []
  },
  {
   "cell_type": "code",
   "execution_count": 2,
   "metadata": {},
   "outputs": [],
   "source": [
    "#save('./word-objs.npy', word_objs)\n",
    "\n"
   ]
  },
  {
   "cell_type": "code",
   "execution_count": 16,
   "metadata": {},
   "outputs": [],
   "source": [
    "with open('top-100-words.csv', 'w+') as f:\n",
    "    for w in w_sorted[:99]:\n",
    "        txt = w.text + ',' + str(w.count) + '\\n'\n",
    "        #print(txt)\n",
    "        f.write(txt)\n",
    "#save('./w_sorted.npy', w_sorted)"
   ]
  },
  {
   "cell_type": "code",
   "execution_count": 17,
   "metadata": {},
   "outputs": [],
   "source": [
    "# find top 300, will manually take out conjunctions and other common workds\n",
    "w_sorted = sorted(word_objs, key = lambda w: w.count, reverse=True)\n",
    "with open('top-300-words.csv', 'w+') as f:\n",
    "    for w in w_sorted[:299]:\n",
    "        txt = w.text + ',' + str(w.count) + '\\n'\n",
    "        #print(txt)\n",
    "        f.write(txt)"
   ]
  },
  {
   "cell_type": "code",
   "execution_count": 32,
   "metadata": {},
   "outputs": [],
   "source": [
    "\n"
   ]
  },
  {
   "cell_type": "code",
   "execution_count": 12,
   "metadata": {},
   "outputs": [
    {
     "data": {
      "text/plain": [
       "<BarContainer object of 34 artists>"
      ]
     },
     "execution_count": 12,
     "metadata": {},
     "output_type": "execute_result"
    },
    {
     "data": {
      "image/png": "[encoded data removed]",
      "text/plain": [
       "<Figure size 432x288 with 1 Axes>"
      ]
     },
     "metadata": {
      "needs_background": "light"
     },
     "output_type": "display_data"
    }
   ],
   "source": [
    "\n",
    "\n",
    "#plt.bar(christ_names, christ_counts)\n",
    "#plt.bar(christ_names, christ_counts)"
   ]
  },
  {
   "cell_type": "code",
   "execution_count": 33,
   "metadata": {},
   "outputs": [
    {
     "name": "stdout",
     "output_type": "stream",
     "text": [
      "Mosiah 27:34\n",
      "Mosiah 29:2\n",
      "Mosiah 29:3\n",
      "Mosiah 29:3\n",
      "Alma 8:13\n",
      "Alma 20:2\n",
      "Alma 21:1\n",
      "Alma 21:4\n",
      "Alma 21:5\n",
      "Alma 21:7\n",
      "Alma 21:9\n",
      "Alma 21:13\n",
      "Alma 22:1\n",
      "Alma 22:4\n",
      "Alma 22:7\n",
      "Alma 22:8\n",
      "Alma 22:10\n",
      "Alma 22:12\n",
      "Alma 22:13\n",
      "Alma 22:14\n",
      "Alma 22:15\n",
      "Alma 22:16\n",
      "Alma 22:17\n",
      "Alma 22:18\n",
      "Alma 22:19\n",
      "Alma 22:20\n",
      "Alma 22:21\n",
      "Alma 22:22\n",
      "Alma 22:24\n",
      "Alma 22:25\n",
      "Alma 22:26\n",
      "Alma 22:35\n",
      "Alma 23:1\n",
      "Alma 23:4\n",
      "Alma 23:16\n",
      "Alma 25:6\n",
      "Alma 25:17\n",
      "Alma 26:10\n",
      "Alma 27:19\n",
      "Alma 27:25\n",
      "Alma 31:6\n",
      "Alma 31:32\n",
      "Alma 50:14\n",
      "Alma 50:14\n",
      "Mormon 2:9\n",
      "Ether 1:15\n",
      "Ether 1:16\n",
      "Ether 10:31\n",
      "Ether 10:31\n",
      "Moroni 9:17\n",
      "50\n"
     ]
    }
   ],
   "source": [
    "\n",
    "\n",
    "            "
   ]
  },
  {
   "cell_type": "code",
   "execution_count": null,
   "metadata": {},
   "outputs": [],
   "source": [
    "#for x in "
   ]
  },
  {
   "cell_type": "code",
   "execution_count": null,
   "metadata": {},
   "outputs": [],
   "source": [
    "Ws = []\n",
    "\n",
    "for word in unique_words:\n",
    "    Ws.append(Word_Count(word))\n",
    "for W in Ws:\n",
    "    for x in raw_all_words:\n",
    "        if W.word == x:"
   ]
  }
 ],
 "metadata": {
  "kernelspec": {
   "display_name": "Python 3",
   "language": "python",
   "name": "python3"
  },
  "language_info": {
   "codemirror_mode": {
    "name": "ipython",
    "version": 3
   },
   "file_extension": ".py",
   "mimetype": "text/x-python",
   "name": "python",
   "nbconvert_exporter": "python",
   "pygments_lexer": "ipython3",
   "version": "3.7.3"
  }
 },
 "nbformat": 4,
 "nbformat_minor": 2
}
