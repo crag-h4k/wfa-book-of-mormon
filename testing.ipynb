{
 "cells": [
  {
   "cell_type": "code",
   "execution_count": 1,
   "metadata": {},
   "outputs": [],
   "source": [
    "from search import get_data\n",
    "from pprint import pprint"
   ]
  },
  {
   "cell_type": "code",
   "execution_count": 2,
   "metadata": {},
   "outputs": [],
   "source": [
    "fname = './book-of-mormon-flat.json'\n",
    "xfname = '.bak'\n",
    "\n",
    "def get_raw_verses(raw_data):\n",
    "    for key, value in raw_data.items() :\n",
    "        if key == 'verses': return(value)\n",
    "\n",
    "from string import punctuation\n",
    "from filemanip import normalize_str, compare_normalized\n",
    "\n",
    "def clean_text(text):\n",
    "    normalized = normalize_str(text)\n",
    "    trans_tbl = str.maketrans('','', punctuation)\n",
    "    return normalized.translate(trans_tbl)\n"
   ]
  },
  {
   "cell_type": "code",
   "execution_count": 5,
   "metadata": {},
   "outputs": [],
   "source": []
  },
  {
   "cell_type": "code",
   "execution_count": 6,
   "metadata": {},
   "outputs": [
    {
     "name": "stdout",
     "output_type": "stream",
     "text": [
      "[<Reference.Reference object at 0x7fbfe24ef0f0>, <Reference.Reference object at 0x7fbfe24f12b0>, <Reference.Reference object at 0x7fbfe24f8ef0>, <Reference.Reference object at 0x7fbfe247f5c0>, <Reference.Reference object at 0x7fbfe1d510f0>, <Reference.Reference object at 0x7fbfe1d51710>, <Reference.Reference object at 0x7fbfe1d530f0>, <Reference.Reference object at 0x7fbfe1d537b8>, <Reference.Reference object at 0x7fbfe1d540b8>, <Reference.Reference object at 0x7fbfe1d54748>]\n",
      "['i', 'nephi', 'having', 'been', 'born', 'of', 'goodly', 'parents', 'therefore', 'i', 'was', 'taught', 'somewhat', 'in', 'all', 'the', 'learning', 'of', 'my', 'father', 'and', 'having', 'seen', 'many', 'afflictions', 'in', 'the', 'course', 'of', 'my', 'days', 'nevertheless', 'having', 'been', 'highly', 'favored', 'of', 'the', 'lord', 'in', 'all', 'my', 'days', 'yea', 'having', 'had', 'a', 'great', 'knowledge', 'of', 'the', 'goodness', 'and', 'the', 'mysteries', 'of', 'god', 'therefore', 'i', 'make', 'a', 'record', 'of', 'my', 'proceedings', 'in', 'my', 'days']\n",
      "['yea', 'i', 'make', 'a', 'record', 'in', 'the', 'language', 'of', 'my', 'father', 'which', 'consists', 'of', 'the', 'learning', 'of', 'the', 'jews', 'and', 'the', 'language', 'of', 'the', 'egyptians']\n",
      "['and', 'i', 'know', 'that', 'the', 'record', 'which', 'i', 'make', 'is', 'true', 'and', 'i', 'make', 'it', 'with', 'mine', 'own', 'hand', 'and', 'i', 'make', 'it', 'according', 'to', 'my', 'knowledge']\n",
      "['for', 'it', 'came', 'to', 'pass', 'in', 'the', 'commencement', 'of', 'the', 'first', 'year', 'of', 'the', 'reign', 'of', 'zedekiah', 'king', 'of', 'judah', 'my', 'father', 'lehi', 'having', 'dwelt', 'at', 'jerusalem', 'in', 'all', 'his', 'days', 'and', 'in', 'that', 'same', 'year', 'there', 'came', 'many', 'prophets', 'prophesying', 'unto', 'the', 'people', 'that', 'they', 'must', 'repent', 'or', 'the', 'great', 'city', 'jerusalem', 'must', 'be', 'destroyed']\n",
      "['wherefore', 'it', 'came', 'to', 'pass', 'that', 'my', 'father', 'lehi', 'as', 'he', 'went', 'forth', 'prayed', 'unto', 'the', 'lord', 'yea', 'even', 'with', 'all', 'his', 'heart', 'in', 'behalf', 'of', 'his', 'people']\n",
      "['and', 'it', 'came', 'to', 'pass', 'as', 'he', 'prayed', 'unto', 'the', 'lord', 'there', 'came', 'a', 'pillar', 'of', 'fire', 'and', 'dwelt', 'upon', 'a', 'rock', 'before', 'him', 'and', 'he', 'saw', 'and', 'heard', 'much', 'and', 'because', 'of', 'the', 'things', 'which', 'he', 'saw', 'and', 'heard', 'he', 'did', 'quake', 'and', 'tremble', 'exceedingly']\n",
      "['and', 'it', 'came', 'to', 'pass', 'that', 'he', 'returned', 'to', 'his', 'own', 'house', 'at', 'jerusalem', 'and', 'he', 'cast', 'himself', 'upon', 'his', 'bed', 'being', 'overcome', 'with', 'the', 'spirit', 'and', 'the', 'things', 'which', 'he', 'had', 'seen']\n",
      "['and', 'being', 'thus', 'overcome', 'with', 'the', 'spirit', 'he', 'was', 'carried', 'away', 'in', 'a', 'vision', 'even', 'that', 'he', 'saw', 'the', 'heavens', 'open', 'and', 'he', 'thought', 'he', 'saw', 'god', 'sitting', 'upon', 'his', 'throne', 'surrounded', 'with', 'numberless', 'concourses', 'of', 'angels', 'in', 'the', 'attitude', 'of', 'singing', 'and', 'praising', 'their', 'god']\n",
      "['and', 'it', 'came', 'to', 'pass', 'that', 'he', 'saw', 'one', 'descending', 'out', 'of', 'the', 'midst', 'of', 'heaven', 'and', 'he', 'beheld', 'that', 'his', 'luster', 'was', 'above', 'that', 'of', 'the', 'sun', 'at', 'noonday']\n",
      "['and', 'he', 'also', 'saw', 'twelve', 'others', 'following', 'him', 'and', 'their', 'brightness', 'did', 'exceed', 'that', 'of', 'the', 'stars', 'in', 'the', 'firmament']\n"
     ]
    }
   ],
   "source": [
    "raw = get_data(fname)\n",
    "data = get_raw_verses(raw)\n",
    "xdata = data[:10]\n",
    "references = make_references(xdata)\n",
    "print(references)\n",
    "for ref in references:\n",
    "    print(ref.text)"
   ]
  },
  {
   "cell_type": "code",
   "execution_count": null,
   "metadata": {},
   "outputs": [],
   "source": []
  }
 ],
 "metadata": {
  "kernelspec": {
   "display_name": "Python 3",
   "language": "python",
   "name": "python3"
  },
  "language_info": {
   "codemirror_mode": {
    "name": "ipython",
    "version": 3
   },
   "file_extension": ".py",
   "mimetype": "text/x-python",
   "name": "python",
   "nbconvert_exporter": "python",
   "pygments_lexer": "ipython3",
   "version": "3.7.1"
  }
 },
 "nbformat": 4,
 "nbformat_minor": 2
}
